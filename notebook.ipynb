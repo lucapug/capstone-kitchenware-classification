{
 "cells": [
  {
   "cell_type": "markdown",
   "id": "5fa7afdb",
   "metadata": {},
   "source": [
    "This is a starter notebook for the [Kitchenware classification](https://www.kaggle.com/competitions/kitchenware-classification) competition on Kaggle\n",
    "\n",
    "To get started:\n",
    "\n",
    "- Join the competition and accept rules\n",
    "- Download your Kaggle credentials file\n",
    "- If you're running in Saturn Cloud, configure your instance to have access to access the kaggle credentials\n",
    "\n",
    "When this is done, we can download the data. We need to execute the following cell only once"
   ]
  },
  {
   "cell_type": "code",
   "execution_count": null,
   "id": "66021fd7",
   "metadata": {},
   "outputs": [],
   "source": [
    "!kaggle competitions download -c kitchenware-classification\n",
    "!mkdir data\n",
    "!unzip kitchenware-classification.zip -d data > /dev/null\n",
    "!rm kitchenware-classification.zip"
   ]
  },
  {
   "cell_type": "code",
   "execution_count": null,
   "id": "cccc3037",
   "metadata": {},
   "outputs": [],
   "source": [
    "!ls"
   ]
  },
  {
   "cell_type": "code",
   "execution_count": null,
   "id": "9ee888ac",
   "metadata": {},
   "outputs": [],
   "source": [
    "#!unzip data/images.zip -d data"
   ]
  },
  {
   "cell_type": "markdown",
   "id": "93406166",
   "metadata": {},
   "source": [
    "Now let's train a baseline model"
   ]
  },
  {
   "cell_type": "code",
   "execution_count": null,
   "id": "4af58b8c",
   "metadata": {},
   "outputs": [],
   "source": [
    "import numpy as np\n",
    "import pandas as pd\n",
    "import tensorflow as tf\n",
    "\n",
    "from tensorflow import keras"
   ]
  },
  {
   "cell_type": "code",
   "execution_count": null,
   "id": "504fb7e9",
   "metadata": {},
   "outputs": [],
   "source": [
    "import matplotlib.pyplot as plt"
   ]
  },
  {
   "cell_type": "code",
   "execution_count": null,
   "id": "bb607322",
   "metadata": {},
   "outputs": [],
   "source": [
    "tf.__version__"
   ]
  },
  {
   "cell_type": "markdown",
   "id": "3669e2fd",
   "metadata": {},
   "source": [
    "First, we will load the training dataframe and split it into train and validation"
   ]
  },
  {
   "cell_type": "code",
   "execution_count": null,
   "id": "d6dca2c5",
   "metadata": {},
   "outputs": [],
   "source": [
    "df_train_full = pd.read_csv('data/train.csv', dtype={'Id': str})\n",
    "df_train_full['filename'] = 'data/images/' + df_train_full['Id'] + '.jpg'\n",
    "df_train_full.head()"
   ]
  },
  {
   "cell_type": "code",
   "execution_count": null,
   "id": "5a9e7356",
   "metadata": {},
   "outputs": [],
   "source": [
    "df_train_full.info()"
   ]
  },
  {
   "cell_type": "code",
   "execution_count": null,
   "id": "32713ffa",
   "metadata": {},
   "outputs": [],
   "source": [
    "#splitting train_full in train(0.8) and val(0.2)\n",
    "val_cutoff = int(len(df_train_full) * 0.8)\n",
    "df_train = df_train_full[:val_cutoff]\n",
    "df_val = df_train_full[val_cutoff:]"
   ]
  },
  {
   "cell_type": "markdown",
   "id": "f4bfef22",
   "metadata": {},
   "source": [
    "Now let's create image generators"
   ]
  },
  {
   "cell_type": "code",
   "execution_count": null,
   "id": "2caa27c8",
   "metadata": {},
   "outputs": [],
   "source": [
    "from tensorflow.keras.applications.xception import Xception\n",
    "from tensorflow.keras.applications.xception import preprocess_input\n",
    "\n",
    "from tensorflow.keras.preprocessing.image import ImageDataGenerator"
   ]
  },
  {
   "cell_type": "code",
   "execution_count": null,
   "id": "c83ced9e",
   "metadata": {
    "scrolled": true
   },
   "outputs": [],
   "source": [
    "train_datagen = ImageDataGenerator(preprocessing_function=preprocess_input)\n",
    "\n",
    "train_generator = train_datagen.flow_from_dataframe(\n",
    "    df_train,\n",
    "    x_col='filename',\n",
    "    y_col='label',\n",
    "    target_size=(150, 150),\n",
    "    batch_size=32,\n",
    ")\n",
    "\n",
    "val_datagen = ImageDataGenerator(preprocessing_function=preprocess_input)\n",
    "\n",
    "val_generator = val_datagen.flow_from_dataframe(\n",
    "    df_val,\n",
    "    x_col='filename',\n",
    "    y_col='label',\n",
    "    target_size=(150, 150),\n",
    "    batch_size=32,\n",
    ")"
   ]
  },
  {
   "cell_type": "code",
   "execution_count": null,
   "id": "da265f3c",
   "metadata": {},
   "outputs": [],
   "source": [
    "def make_model(learning_rate):\n",
    "    base_model = Xception(\n",
    "        weights='imagenet',\n",
    "        input_shape=(150, 150, 3),\n",
    "        include_top=False\n",
    "    )\n",
    "\n",
    "    base_model.trainable = False\n",
    "\n",
    "    inputs = keras.Input(shape=(150, 150, 3))\n",
    "\n",
    "    base = base_model(inputs, training=False)\n",
    "    vector = keras.layers.GlobalAveragePooling2D()(base)\n",
    "    outputs = keras.layers.Dense(6)(vector)\n",
    "\n",
    "    model = keras.Model(inputs, outputs)\n",
    "    \n",
    "    model.compile(\n",
    "        optimizer=keras.optimizers.Adam(learning_rate),\n",
    "        loss=keras.losses.CategoricalCrossentropy(from_logits=True),\n",
    "        metrics=[\"accuracy\"],\n",
    "    )\n",
    "    \n",
    "    return model"
   ]
  },
  {
   "cell_type": "markdown",
   "id": "076b5fa4",
   "metadata": {},
   "source": [
    "#### starter parameters were lr = 0.01 and epochs = 2 ####"
   ]
  },
  {
   "cell_type": "code",
   "execution_count": null,
   "id": "ea3b81e4",
   "metadata": {},
   "outputs": [],
   "source": [
    "model = make_model(learning_rate = 0.001)\n",
    "history_0_001 = model.fit(train_generator, epochs=10, validation_data=val_generator)"
   ]
  },
  {
   "cell_type": "code",
   "execution_count": null,
   "id": "d0972349",
   "metadata": {},
   "outputs": [],
   "source": [
    "plt.figure(figsize=(6, 4))\n",
    "\n",
    "epochs = history_0_001.epoch\n",
    "val = history_0_001.history['val_accuracy']\n",
    "train = history_0_001.history['accuracy']\n",
    "\n",
    "plt.plot(epochs, val, color='black', linestyle='solid', label='validation')\n",
    "plt.plot(epochs, train, color='black', linestyle='dashed', label='train')\n",
    "\n",
    "plt.title('Xception v1, lr=0.001')\n",
    "plt.xlabel('Epoch')\n",
    "plt.ylabel('Accuracy')\n",
    "\n",
    "plt.xticks(epochs)\n",
    "\n",
    "plt.legend()\n",
    "\n",
    "\n",
    "plt.savefig('xception_v1_0_001.svg')\n",
    "\n",
    "plt.show()"
   ]
  },
  {
   "cell_type": "code",
   "execution_count": null,
   "id": "48883f39",
   "metadata": {},
   "outputs": [],
   "source": [
    "#Let's add one more layer - and a dropout between them\n",
    "\n",
    "def make_model(learning_rate, droprate):\n",
    "    base_model = Xception(\n",
    "        weights='imagenet',\n",
    "        input_shape=(150, 150, 3),\n",
    "        include_top=False\n",
    "    )\n",
    "\n",
    "    base_model.trainable = False\n",
    "\n",
    "    inputs = keras.Input(shape=(150, 150, 3))\n",
    "    \n",
    "    base = base_model(inputs, training=False)\n",
    "    vector = keras.layers.GlobalAveragePooling2D()(base)\n",
    "\n",
    "    inner = keras.layers.Dense(100, activation='relu')(vector)\n",
    "    drop = keras.layers.Dropout(droprate)(inner)\n",
    "\n",
    "    outputs = keras.layers.Dense(6)(drop)\n",
    "\n",
    "    model = keras.Model(inputs, outputs)\n",
    "    \n",
    "    model.compile(\n",
    "        optimizer=keras.optimizers.Adam(learning_rate),\n",
    "        loss=keras.losses.CategoricalCrossentropy(from_logits=True),\n",
    "        metrics=[\"accuracy\"],\n",
    "    )\n",
    "    \n",
    "    return model"
   ]
  },
  {
   "cell_type": "code",
   "execution_count": null,
   "id": "882e15b3",
   "metadata": {},
   "outputs": [],
   "source": [
    "model = make_model(learning_rate=0.001, droprate=0.5)\n",
    "\n",
    "callbacks = [\n",
    "    keras.callbacks.ModelCheckpoint(\n",
    "        \"xception_v2_0_5_{epoch:02d}_{val_accuracy:.3f}.h5\",\n",
    "        monitor=\"val_accuracy\",\n",
    "        save_best_only=True,\n",
    "        mode='max'\n",
    "    )\n",
    "]\n",
    "\n",
    "history_2 = model.fit(train_generator, epochs=15, validation_data=val_generator, callbacks=callbacks)"
   ]
  },
  {
   "cell_type": "code",
   "execution_count": null,
   "id": "441f5a94",
   "metadata": {},
   "outputs": [],
   "source": [
    "epochs = history_2.epoch\n",
    "\n",
    "train05 = history_2.history['accuracy']\n",
    "\n",
    "val05 = history_2.history['val_accuracy']"
   ]
  },
  {
   "cell_type": "code",
   "execution_count": null,
   "id": "ea1b9f23",
   "metadata": {},
   "outputs": [],
   "source": [
    "plt.figure(figsize=(6, 4))\n",
    "\n",
    "\n",
    "plt.plot(epochs, val05, color='black', linestyle='solid', label='0.5')\n",
    "\n",
    "\n",
    "\n",
    "plt.title('Xception')\n",
    "plt.xlabel('Epoch')\n",
    "plt.ylabel('Accuracy')\n",
    "\n",
    "\n",
    "plt.legend()\n",
    "\n",
    "#plt.savefig('xception_v2_dropout.svg')\n",
    "\n",
    "plt.show()"
   ]
  },
  {
   "cell_type": "code",
   "execution_count": null,
   "id": "46eb5659",
   "metadata": {
    "scrolled": true
   },
   "outputs": [],
   "source": [
    "plt.figure(figsize=(6, 4))\n",
    "\n",
    "\n",
    "plt.plot(epochs, train05, color='black', linestyle='solid', label='0.5')\n",
    "\n",
    "\n",
    "\n",
    "plt.title('Xception(train)')\n",
    "plt.xlabel('Epoch')\n",
    "plt.ylabel('Accuracy')\n",
    "\n",
    "\n",
    "plt.legend()\n",
    "\n",
    "#plt.savefig('xception_v2_dropout_train.svg')\n",
    "\n",
    "plt.show()"
   ]
  },
  {
   "cell_type": "markdown",
   "id": "baabe153",
   "metadata": {},
   "source": [
    "### DATA AUGMENTATION ###"
   ]
  },
  {
   "cell_type": "code",
   "execution_count": null,
   "id": "8c70bebb",
   "metadata": {},
   "outputs": [],
   "source": [
    "train_datagen = ImageDataGenerator(\n",
    "    preprocessing_function=preprocess_input,\n",
    "    zoom_range=0.1,\n",
    "    horizontal_flip=True,\n",
    "    #vertical_flip=True,\n",
    "    rotation_range=5.0,\n",
    "    fill_mode='nearest',\n",
    "    #width_shift_range=0.1,\n",
    "    #height_shift_range=0.1\n",
    "    #channel_shift_range=0.2\n",
    "    shear_range=0.2\n",
    ")\n",
    "\n",
    "train_generator = train_datagen.flow_from_dataframe(\n",
    "    df_train,\n",
    "    x_col='filename',\n",
    "    y_col='label',\n",
    "    target_size=(150, 150),\n",
    "    batch_size=32,\n",
    ")\n",
    "\n",
    "val_datagen = ImageDataGenerator(preprocessing_function=preprocess_input)\n",
    "\n",
    "val_generator = val_datagen.flow_from_dataframe(\n",
    "    df_val,\n",
    "    x_col='filename',\n",
    "    y_col='label',\n",
    "    target_size=(150, 150),\n",
    "    batch_size=32,\n",
    ")"
   ]
  },
  {
   "cell_type": "code",
   "execution_count": null,
   "id": "b23cc4b0",
   "metadata": {
    "scrolled": false
   },
   "outputs": [],
   "source": [
    "model = make_model(learning_rate=0.001, droprate=0.5)\n",
    "\n",
    "callbacks = [\n",
    "    keras.callbacks.ModelCheckpoint(\n",
    "        \"xception_v3_0_5_{epoch:02d}_{val_accuracy:.3f}.h5\",\n",
    "        monitor=\"val_accuracy\",\n",
    "        save_best_only=True,\n",
    "        mode='max'\n",
    "    )\n",
    "]\n",
    "\n",
    "history_3 = model.fit(train_generator, epochs=10, validation_data=val_generator, callbacks=callbacks)"
   ]
  },
  {
   "cell_type": "code",
   "execution_count": null,
   "id": "a6a51595",
   "metadata": {},
   "outputs": [],
   "source": [
    "epochs = history_3.epoch\n",
    "\n",
    "train05 = history_3.history['accuracy']\n",
    "\n",
    "val05 = history_3.history['val_accuracy']"
   ]
  },
  {
   "cell_type": "code",
   "execution_count": null,
   "id": "bb953ce9",
   "metadata": {},
   "outputs": [],
   "source": [
    "plt.figure(figsize=(6, 4))\n",
    "\n",
    "\n",
    "plt.plot(epochs, val05, color='black', linestyle='solid', label='0.5')\n",
    "\n",
    "\n",
    "\n",
    "plt.title('Xception')\n",
    "plt.xlabel('Epoch')\n",
    "plt.ylabel('Accuracy')\n",
    "\n",
    "\n",
    "plt.legend()\n",
    "\n",
    "#plt.savefig('xception_v2_dropout.svg')\n",
    "\n",
    "plt.show()"
   ]
  },
  {
   "cell_type": "code",
   "execution_count": null,
   "id": "c6e03056",
   "metadata": {},
   "outputs": [],
   "source": [
    "plt.figure(figsize=(6, 4))\n",
    "\n",
    "\n",
    "plt.plot(epochs, train05, color='black', linestyle='solid', label='0.5')\n",
    "\n",
    "\n",
    "\n",
    "plt.title('Xception(train)')\n",
    "plt.xlabel('Epoch')\n",
    "plt.ylabel('Accuracy')\n",
    "\n",
    "\n",
    "plt.legend()\n",
    "\n",
    "#plt.savefig('xception_v2_dropout_train.svg')\n",
    "\n",
    "plt.show()"
   ]
  },
  {
   "cell_type": "markdown",
   "id": "3a767001",
   "metadata": {},
   "source": [
    "### FINE TUNING ###"
   ]
  },
  {
   "cell_type": "code",
   "execution_count": null,
   "id": "245bad6f",
   "metadata": {},
   "outputs": [],
   "source": [
    "base_model = Xception(\n",
    "    weights='imagenet',\n",
    "    input_shape=(150, 150, 3),\n",
    "    include_top=False\n",
    ")\n",
    "\n",
    "base_model.trainable = False\n",
    "\n",
    "inputs = keras.Input(shape=(150, 150, 3))\n",
    "    \n",
    "base = base_model(inputs, training=False)\n",
    "vector = keras.layers.GlobalAveragePooling2D()(base)\n",
    "\n",
    "inner = keras.layers.Dense(100, activation='relu')(vector)\n",
    "drop = keras.layers.Dropout(rate=0.5)(inner)\n",
    "\n",
    "outputs = keras.layers.Dense(6)(drop)\n",
    "\n",
    "model = keras.Model(inputs, outputs)\n",
    "    \n",
    "model.compile(\n",
    "    optimizer=keras.optimizers.Adam(learning_rate=0.001),\n",
    "    loss=keras.losses.CategoricalCrossentropy(from_logits=True),\n",
    "    metrics=[\"accuracy\"],\n",
    ")\n",
    "    "
   ]
  },
  {
   "cell_type": "code",
   "execution_count": null,
   "id": "6d1b2264",
   "metadata": {},
   "outputs": [],
   "source": [
    "history_4 = model.fit(train_generator, epochs=10, validation_data=val_generator)"
   ]
  },
  {
   "cell_type": "code",
   "execution_count": null,
   "id": "9f054dee",
   "metadata": {},
   "outputs": [],
   "source": [
    "#unfreeze the last 32 layers of the base model for doing a partial fine tuning \n",
    "base_model.trainable = True\n",
    "for layer in base_model.layers[:-32]:\n",
    "  layer.trainable = False"
   ]
  },
  {
   "cell_type": "code",
   "execution_count": null,
   "id": "0c257940",
   "metadata": {},
   "outputs": [],
   "source": [
    "model.compile(\n",
    "    optimizer=keras.optimizers.Adam(learning_rate=1e-5),  # Low learning rate to avoid desstruction of the learned weights\n",
    "    loss=keras.losses.CategoricalCrossentropy(from_logits=True),\n",
    "    metrics=[\"accuracy\"],\n",
    ")\n",
    "\n",
    "callbacks = [\n",
    "    keras.callbacks.ModelCheckpoint(\n",
    "        \"xception_capstone_{epoch:02d}_{val_accuracy:.3f}.h5\",\n",
    "        monitor=\"val_accuracy\",\n",
    "        save_best_only=True,\n",
    "        mode='max'\n",
    "    )\n",
    "]\n",
    "\n",
    "history_5 = model.fit(train_generator, epochs=10, validation_data=val_generator, callbacks=callbacks)"
   ]
  },
  {
   "cell_type": "code",
   "execution_count": null,
   "id": "dd0a0695",
   "metadata": {},
   "outputs": [],
   "source": [
    "epochs = history_5.epoch\n",
    "\n",
    "train = history_5.history['accuracy']\n",
    "\n",
    "val = history_5.history['val_accuracy']"
   ]
  },
  {
   "cell_type": "code",
   "execution_count": null,
   "id": "8f12728e",
   "metadata": {},
   "outputs": [],
   "source": [
    "plt.figure(figsize=(6, 4))\n",
    "\n",
    "\n",
    "plt.plot(epochs, val, color='black', linestyle='solid')\n",
    "\n",
    "\n",
    "\n",
    "plt.title('Xception')\n",
    "plt.xlabel('Epoch')\n",
    "plt.ylabel('Accuracy')\n",
    "\n",
    "\n",
    "plt.legend()\n",
    "\n",
    "#plt.savefig('xception_capstone_val_acc.svg')\n",
    "\n",
    "plt.show()"
   ]
  },
  {
   "cell_type": "code",
   "execution_count": null,
   "id": "0e5fbe4f",
   "metadata": {},
   "outputs": [],
   "source": [
    "plt.figure(figsize=(6, 4))\n",
    "\n",
    "\n",
    "plt.plot(epochs, train, color='black', linestyle='solid')\n",
    "\n",
    "\n",
    "\n",
    "plt.title('Xception(train)')\n",
    "plt.xlabel('Epoch')\n",
    "plt.ylabel('Accuracy')\n",
    "\n",
    "\n",
    "plt.legend()\n",
    "\n",
    "#plt.savefig('xception_capstone_train_acc.svg')\n",
    "\n",
    "plt.show()"
   ]
  },
  {
   "cell_type": "markdown",
   "id": "6da2457c",
   "metadata": {},
   "source": [
    "### Training a larger model ###"
   ]
  },
  {
   "cell_type": "code",
   "execution_count": null,
   "id": "fb3871fa",
   "metadata": {},
   "outputs": [],
   "source": [
    "input_size = 299\n",
    "\n",
    "train_datagen = ImageDataGenerator(preprocessing_function=preprocess_input)\n",
    "\n",
    "train_generator = train_datagen.flow_from_dataframe(\n",
    "    df_train,\n",
    "    x_col='filename',\n",
    "    y_col='label',\n",
    "    target_size=(input_size, input_size),\n",
    "    batch_size=32,\n",
    ")\n",
    "\n",
    "val_datagen = ImageDataGenerator(preprocessing_function=preprocess_input)\n",
    "\n",
    "val_generator = val_datagen.flow_from_dataframe(\n",
    "    df_val,\n",
    "    x_col='filename',\n",
    "    y_col='label',\n",
    "    target_size=(input_size, input_size),\n",
    "    batch_size=32,\n",
    ")"
   ]
  },
  {
   "cell_type": "code",
   "execution_count": null,
   "id": "40fc6af3",
   "metadata": {},
   "outputs": [],
   "source": [
    "base_model = Xception(\n",
    "    weights='imagenet',\n",
    "    input_shape=(input_size, input_size, 3),\n",
    "    include_top=False\n",
    ")\n",
    "\n",
    "base_model.trainable = False\n",
    "\n",
    "inputs = keras.Input(shape=(input_size, input_size, 3))\n",
    "    \n",
    "base = base_model(inputs, training=False)\n",
    "vector = keras.layers.GlobalAveragePooling2D()(base)\n",
    "\n",
    "inner = keras.layers.Dense(100, activation='relu')(vector)\n",
    "drop = keras.layers.Dropout(rate=0.5)(inner)\n",
    "\n",
    "outputs = keras.layers.Dense(6)(drop)\n",
    "\n",
    "model = keras.Model(inputs, outputs)\n",
    "    \n",
    "model.compile(\n",
    "    optimizer=keras.optimizers.Adam(learning_rate=0.001),\n",
    "    loss=keras.losses.CategoricalCrossentropy(from_logits=True),\n",
    "    metrics=[\"accuracy\"],\n",
    ")"
   ]
  },
  {
   "cell_type": "code",
   "execution_count": null,
   "id": "8c32bb71",
   "metadata": {},
   "outputs": [],
   "source": [
    "model.fit(train_generator, epochs=5, verbose=1, validation_data=val_generator)"
   ]
  },
  {
   "cell_type": "code",
   "execution_count": null,
   "id": "1905b703",
   "metadata": {},
   "outputs": [],
   "source": [
    "#unfreeze the last 32 layers of the base model for doing a partial fine tuning \n",
    "base_model.trainable = True\n",
    "for layer in base_model.layers[:-32]:\n",
    "  layer.trainable = False"
   ]
  },
  {
   "cell_type": "code",
   "execution_count": null,
   "id": "c9e4ad94",
   "metadata": {},
   "outputs": [],
   "source": [
    "model.compile(\n",
    "    optimizer=keras.optimizers.Adam(learning_rate=1e-5),  # Low learning rate to avoid destruction of the learned weights\n",
    "    loss=keras.losses.CategoricalCrossentropy(from_logits=True),\n",
    "    metrics=[\"accuracy\"],\n",
    ")\n",
    "\n",
    "callbacks = [\n",
    "    keras.callbacks.ModelCheckpoint(\n",
    "        \"xception_final_{epoch:02d}_{val_accuracy:.3f}.h5\",\n",
    "        monitor=\"val_accuracy\",\n",
    "        verbose=1,\n",
    "        save_best_only=True,\n",
    "        mode='max'\n",
    "    ),\n",
    "    keras.callbacks.EarlyStopping(\n",
    "        monitor='val_loss', \n",
    "        mode='min', \n",
    "        verbose=1, \n",
    "        patience=5\n",
    "    )\n",
    "]\n",
    "\n",
    "history_6 = model.fit(train_generator, epochs=50, verbose=0, validation_data=val_generator, callbacks=callbacks)"
   ]
  },
  {
   "cell_type": "code",
   "execution_count": null,
   "id": "e19f83b0",
   "metadata": {},
   "outputs": [],
   "source": [
    "epochs = history_6.epoch\n",
    "\n",
    "train = history_6.history['accuracy']\n",
    "\n",
    "val = history_6.history['val_accuracy']"
   ]
  },
  {
   "cell_type": "code",
   "execution_count": null,
   "id": "1d250df2",
   "metadata": {},
   "outputs": [],
   "source": [
    "plt.figure(figsize=(6, 4))\n",
    "\n",
    "\n",
    "plt.plot(epochs, val, color='black', linestyle='solid')\n",
    "\n",
    "\n",
    "\n",
    "plt.title('Xception')\n",
    "plt.xlabel('Epoch')\n",
    "plt.ylabel('Accuracy')\n",
    "\n",
    "\n",
    "plt.legend()\n",
    "\n",
    "#plt.savefig('xception_capstone_val_acc.svg')\n",
    "\n",
    "plt.show()"
   ]
  },
  {
   "cell_type": "code",
   "execution_count": null,
   "id": "dfe2f10b",
   "metadata": {},
   "outputs": [],
   "source": [
    "plt.figure(figsize=(6, 4))\n",
    "\n",
    "\n",
    "plt.plot(epochs, train, color='black', linestyle='solid')\n",
    "\n",
    "\n",
    "\n",
    "plt.title('Xception(train)')\n",
    "plt.xlabel('Epoch')\n",
    "plt.ylabel('Accuracy')\n",
    "\n",
    "\n",
    "plt.legend()\n",
    "\n",
    "#plt.savefig('xception_capstone_train_acc.svg')\n",
    "\n",
    "plt.show()"
   ]
  },
  {
   "cell_type": "markdown",
   "id": "5ee6e149",
   "metadata": {},
   "source": [
    "Now let's use this model to predict the labels for test data"
   ]
  },
  {
   "cell_type": "code",
   "execution_count": null,
   "id": "3eb84215",
   "metadata": {},
   "outputs": [],
   "source": [
    "#model = keras.models.load_model('xception_v2_0_5_14_0.906.h5') #best result case with 1 more layer and dropout\n",
    "\n",
    "#model = keras.models.load_model('xception_v3_0_5_15_0.902.h5') #1 more layer, dropout and augmentation\n",
    "#model = keras.models.load_model('xception_v3_0_5_09_0.909.h5') #1 more layer, dropout and augmentation final\n",
    "\n",
    "#model = keras.models.load_model('xception_v4_0_5_10_0.922.h5') #1 more layer, dropout, augmentation and partial fine tuning\n",
    "\n",
    "#model = keras.models.load_model('xception_capstone_08_0.925.h5') #final model for capstone (dropout, augmentation and partial tuning)\n",
    "\n",
    "model = keras.models.load_model('xception_final_03_0.964.h5') #final model for kaggle (dropout, augmentation and partial tuning, increased input_size to 299)"
   ]
  },
  {
   "cell_type": "code",
   "execution_count": null,
   "id": "40643e85",
   "metadata": {},
   "outputs": [],
   "source": [
    "df_test = pd.read_csv('data/test.csv', dtype={'Id': str})\n",
    "df_test['filename'] = 'data/images/' + df_test['Id'] + '.jpg'\n",
    "df_test.head()"
   ]
  },
  {
   "cell_type": "code",
   "execution_count": null,
   "id": "5fd96ab0",
   "metadata": {},
   "outputs": [],
   "source": [
    "input_size = 299\n",
    "\n",
    "test_datagen = ImageDataGenerator(preprocessing_function=preprocess_input)\n",
    "\n",
    "#class_mode = 'input'means that in the label arrays that are returned each label will be will be images identical to input images\n",
    "#useful for fitting autoencoders\n",
    "\n",
    "test_generator = test_datagen.flow_from_dataframe(\n",
    "    df_test,\n",
    "    x_col='filename',\n",
    "    class_mode='input',\n",
    "    #target_size=(150, 150),\n",
    "    target_size=(input_size, input_size),\n",
    "    batch_size=32,\n",
    "    shuffle=False\n",
    ")"
   ]
  },
  {
   "cell_type": "code",
   "execution_count": null,
   "id": "91800139",
   "metadata": {},
   "outputs": [],
   "source": [
    "test_generator.filenames[:5]"
   ]
  },
  {
   "cell_type": "code",
   "execution_count": null,
   "id": "e279456f",
   "metadata": {},
   "outputs": [],
   "source": [
    "y_pred = model.predict(test_generator)"
   ]
  },
  {
   "cell_type": "code",
   "execution_count": null,
   "id": "bdb022d0",
   "metadata": {},
   "outputs": [],
   "source": [
    "y_pred.shape"
   ]
  },
  {
   "cell_type": "code",
   "execution_count": null,
   "id": "8e8303d1",
   "metadata": {},
   "outputs": [],
   "source": [
    "#dtype = '<U5' means unicode 5 characters with byte-order little-endian (<)\n",
    "classes = np.array(list(train_generator.class_indices.keys()))\n",
    "classes"
   ]
  },
  {
   "cell_type": "code",
   "execution_count": null,
   "id": "cb3f8017",
   "metadata": {},
   "outputs": [],
   "source": [
    "predictions = classes[y_pred.argmax(axis=1)]"
   ]
  },
  {
   "cell_type": "code",
   "execution_count": null,
   "id": "8407dffa",
   "metadata": {},
   "outputs": [],
   "source": [
    "predictions[:5]"
   ]
  },
  {
   "cell_type": "markdown",
   "id": "9d2c97ac",
   "metadata": {},
   "source": [
    "### BENTO ML ###"
   ]
  },
  {
   "cell_type": "code",
   "execution_count": null,
   "id": "2b28a8b2",
   "metadata": {},
   "outputs": [],
   "source": [
    "import bentoml"
   ]
  },
  {
   "cell_type": "code",
   "execution_count": null,
   "id": "37b6223c",
   "metadata": {},
   "outputs": [],
   "source": [
    "bentoml.keras.save_model(\"keras_xception_final\", model)"
   ]
  },
  {
   "cell_type": "markdown",
   "id": "e0194490",
   "metadata": {},
   "source": [
    "## Finally, we need to prepare the submission ##"
   ]
  },
  {
   "cell_type": "markdown",
   "id": "e75eb123",
   "metadata": {},
   "source": [
    "### submitted till now: \n",
    "1) lr=0.01 epochs=2 val_acc=0.8085 (scored on kaggle as 0.81860) \\\n",
    "2) lr=0.01 epochs=5 val_acc=0.8741 (scored as 0.88062) \\\n",
    "3) lr=0.01 epochs=10 val_accuracy=0.8822  (scored as? NOT submitted, overfitting  ) \\\n",
    "4) lr=0.1 epochs=10 val_accuracy=0.8831   (scored as ? NOT submitted, overfitting ) \\\n",
    "5) lr=0.001 epochs=10 val_accuracy=0.8867   (scored as ? NOT submitted, overfitting ) \\\n",
    "6) lr=0.001 epochs=15 val_accuracy=0.8948  (scored as ? NOT submitted, overfitting ) \\\n",
    "7) lr=0.001 epochs=15 val_accuracy=0.9006  (scored as 0.89302 ) \\\n",
    "8) lr=0.001 epochs=15, data_augmentation, val_accuracy=0.9020  (scored as 0.89819 ) \\\n",
    "9) lr=0.001 epochs=15, data_augmentation, val_accuracy=0.9065  (scored as 0.89819 ) \\\n",
    "10) lr=0.001 epochs=10, data_augmentation, partial fine tuning val_accuracy=0.9218  (scored as 0.92144) \\\n",
    "11) lr=0.001 epochs=50, data_augmentation, partial fine tuning, larger model (from 150 to 299) val_accuracy=0.96403  (scored as 0.96227) \\"
   ]
  },
  {
   "cell_type": "code",
   "execution_count": null,
   "id": "da13e38c",
   "metadata": {},
   "outputs": [],
   "source": [
    "df_submission = pd.DataFrame()\n",
    "df_submission['filename'] = test_generator.filenames\n",
    "df_submission['label'] = predictions\n",
    "\n",
    "df_submission['Id'] = df_submission.filename.str[len('data/images/'):-4]\n",
    "del df_submission['filename']"
   ]
  },
  {
   "cell_type": "code",
   "execution_count": null,
   "id": "98729827",
   "metadata": {},
   "outputs": [],
   "source": [
    "df_submission.head()"
   ]
  },
  {
   "cell_type": "code",
   "execution_count": null,
   "id": "df00d520",
   "metadata": {},
   "outputs": [],
   "source": [
    "df_submission[['Id', 'label']].to_csv('submission.csv', index=False)"
   ]
  },
  {
   "cell_type": "code",
   "execution_count": null,
   "id": "dd5fa450",
   "metadata": {},
   "outputs": [],
   "source": [
    "val_acc = round(max(history_6.history['val_accuracy']), 4)\n",
    "#val_acc = 0.9218\n",
    "print(f'validation: {val_acc}')"
   ]
  },
  {
   "cell_type": "code",
   "execution_count": null,
   "id": "5081abc1",
   "metadata": {},
   "outputs": [],
   "source": [
    "!kaggle competitions submit kitchenware-classification -f submission.csv -m f'validation: {val_acc}'"
   ]
  },
  {
   "cell_type": "code",
   "execution_count": null,
   "id": "63ad10a4",
   "metadata": {},
   "outputs": [],
   "source": []
  }
 ],
 "metadata": {
  "kernelspec": {
   "display_name": "Python 3 (ipykernel)",
   "language": "python",
   "name": "python3"
  },
  "language_info": {
   "codemirror_mode": {
    "name": "ipython",
    "version": 3
   },
   "file_extension": ".py",
   "mimetype": "text/x-python",
   "name": "python",
   "nbconvert_exporter": "python",
   "pygments_lexer": "ipython3",
   "version": "3.10.8"
  }
 },
 "nbformat": 4,
 "nbformat_minor": 5
}
