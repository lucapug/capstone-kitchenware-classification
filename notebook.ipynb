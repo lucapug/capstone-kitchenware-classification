{
 "cells": [
  {
   "cell_type": "markdown",
   "id": "5fa7afdb",
   "metadata": {},
   "source": [
    "This is a starter notebook for the [Kitchenware classification](https://www.kaggle.com/competitions/kitchenware-classification) competition on Kaggle\n",
    "\n",
    "To get started:\n",
    "\n",
    "- Join the competition and accept rules\n",
    "- Download your Kaggle credentials file\n",
    "- If you're running in Saturn Cloud, configure your instance to have access to access the kaggle credentials\n",
    "\n",
    "When this is done, we can download the data. We need to execute the following cell only once"
   ]
  },
  {
   "cell_type": "code",
   "execution_count": 1,
   "id": "66021fd7",
   "metadata": {},
   "outputs": [
    {
     "name": "stdout",
     "output_type": "stream",
     "text": [
      "Downloading kitchenware-classification.zip to /home/jovyan/workspace/kitchenware-competition-starter\n",
      "100%|██████████████████████████████████████▊| 1.62G/1.63G [00:12<00:00, 149MB/s]\n",
      "100%|███████████████████████████████████████| 1.63G/1.63G [00:12<00:00, 137MB/s]\n",
      "mkdir: cannot create directory ‘data’: File exists\n",
      "replace data/images/0000.jpg? [y]es, [n]o, [A]ll, [N]one, [r]ename: ^C\n"
     ]
    }
   ],
   "source": [
    "!kaggle competitions download -c kitchenware-classification\n",
    "!mkdir data\n",
    "!unzip kitchenware-classification.zip -d data > /dev/null\n",
    "!rm kitchenware-classification.zip"
   ]
  },
  {
   "cell_type": "code",
   "execution_count": 2,
   "id": "cccc3037",
   "metadata": {},
   "outputs": [
    {
     "name": "stdout",
     "output_type": "stream",
     "text": [
      "data\t\t     keras-starter-v2.ipynb\t      README.md\r\n",
      "keras-starter.ipynb  kitchenware-jupyter-recipe.json  submission.csv\r\n"
     ]
    }
   ],
   "source": [
    "!ls"
   ]
  },
  {
   "cell_type": "markdown",
   "id": "93406166",
   "metadata": {},
   "source": [
    "Now let's train a baseline model"
   ]
  },
  {
   "cell_type": "code",
   "execution_count": 1,
   "id": "4af58b8c",
   "metadata": {},
   "outputs": [
    {
     "name": "stderr",
     "output_type": "stream",
     "text": [
      "2022-12-21 12:00:47.020567: I tensorflow/core/platform/cpu_feature_guard.cc:193] This TensorFlow binary is optimized with oneAPI Deep Neural Network Library (oneDNN) to use the following CPU instructions in performance-critical operations:  SSE4.1 SSE4.2 AVX AVX2 AVX512F AVX512_VNNI FMA\n",
      "To enable them in other operations, rebuild TensorFlow with the appropriate compiler flags.\n"
     ]
    }
   ],
   "source": [
    "import numpy as np\n",
    "import pandas as pd\n",
    "import tensorflow as tf\n",
    "\n",
    "from tensorflow import keras"
   ]
  },
  {
   "cell_type": "code",
   "execution_count": 2,
   "id": "504fb7e9",
   "metadata": {},
   "outputs": [
    {
     "ename": "ModuleNotFoundError",
     "evalue": "No module named 'matplotlib'",
     "output_type": "error",
     "traceback": [
      "\u001b[0;31m---------------------------------------------------------------------------\u001b[0m",
      "\u001b[0;31mModuleNotFoundError\u001b[0m                       Traceback (most recent call last)",
      "Cell \u001b[0;32mIn[2], line 1\u001b[0m\n\u001b[0;32m----> 1\u001b[0m \u001b[38;5;28;01mimport\u001b[39;00m \u001b[38;5;21;01mmatplotlib\u001b[39;00m\u001b[38;5;21;01m.\u001b[39;00m\u001b[38;5;21;01mpyplot\u001b[39;00m \u001b[38;5;28;01mas\u001b[39;00m \u001b[38;5;21;01mplt\u001b[39;00m\n",
      "\u001b[0;31mModuleNotFoundError\u001b[0m: No module named 'matplotlib'"
     ]
    }
   ],
   "source": [
    "import matplotlib.pyplot as plt"
   ]
  },
  {
   "cell_type": "code",
   "execution_count": 3,
   "id": "bb607322",
   "metadata": {},
   "outputs": [
    {
     "data": {
      "text/plain": [
       "'2.10.0'"
      ]
     },
     "execution_count": 3,
     "metadata": {},
     "output_type": "execute_result"
    }
   ],
   "source": [
    "tf.__version__"
   ]
  },
  {
   "cell_type": "markdown",
   "id": "3669e2fd",
   "metadata": {},
   "source": [
    "First, we will load the training dataframe and split it into train and validation"
   ]
  },
  {
   "cell_type": "code",
   "execution_count": 4,
   "id": "d6dca2c5",
   "metadata": {},
   "outputs": [
    {
     "data": {
      "text/html": [
       "<div>\n",
       "<style scoped>\n",
       "    .dataframe tbody tr th:only-of-type {\n",
       "        vertical-align: middle;\n",
       "    }\n",
       "\n",
       "    .dataframe tbody tr th {\n",
       "        vertical-align: top;\n",
       "    }\n",
       "\n",
       "    .dataframe thead th {\n",
       "        text-align: right;\n",
       "    }\n",
       "</style>\n",
       "<table border=\"1\" class=\"dataframe\">\n",
       "  <thead>\n",
       "    <tr style=\"text-align: right;\">\n",
       "      <th></th>\n",
       "      <th>Id</th>\n",
       "      <th>label</th>\n",
       "      <th>filename</th>\n",
       "    </tr>\n",
       "  </thead>\n",
       "  <tbody>\n",
       "    <tr>\n",
       "      <th>0</th>\n",
       "      <td>0560</td>\n",
       "      <td>glass</td>\n",
       "      <td>data/images/0560.jpg</td>\n",
       "    </tr>\n",
       "    <tr>\n",
       "      <th>1</th>\n",
       "      <td>4675</td>\n",
       "      <td>cup</td>\n",
       "      <td>data/images/4675.jpg</td>\n",
       "    </tr>\n",
       "    <tr>\n",
       "      <th>2</th>\n",
       "      <td>0875</td>\n",
       "      <td>glass</td>\n",
       "      <td>data/images/0875.jpg</td>\n",
       "    </tr>\n",
       "    <tr>\n",
       "      <th>3</th>\n",
       "      <td>4436</td>\n",
       "      <td>spoon</td>\n",
       "      <td>data/images/4436.jpg</td>\n",
       "    </tr>\n",
       "    <tr>\n",
       "      <th>4</th>\n",
       "      <td>8265</td>\n",
       "      <td>plate</td>\n",
       "      <td>data/images/8265.jpg</td>\n",
       "    </tr>\n",
       "  </tbody>\n",
       "</table>\n",
       "</div>"
      ],
      "text/plain": [
       "     Id  label              filename\n",
       "0  0560  glass  data/images/0560.jpg\n",
       "1  4675    cup  data/images/4675.jpg\n",
       "2  0875  glass  data/images/0875.jpg\n",
       "3  4436  spoon  data/images/4436.jpg\n",
       "4  8265  plate  data/images/8265.jpg"
      ]
     },
     "execution_count": 4,
     "metadata": {},
     "output_type": "execute_result"
    }
   ],
   "source": [
    "df_train_full = pd.read_csv('data/train.csv', dtype={'Id': str})\n",
    "df_train_full['filename'] = 'data/images/' + df_train_full['Id'] + '.jpg'\n",
    "df_train_full.head()"
   ]
  },
  {
   "cell_type": "code",
   "execution_count": 6,
   "id": "5a9e7356",
   "metadata": {},
   "outputs": [
    {
     "name": "stdout",
     "output_type": "stream",
     "text": [
      "<class 'pandas.core.frame.DataFrame'>\n",
      "RangeIndex: 5559 entries, 0 to 5558\n",
      "Data columns (total 3 columns):\n",
      " #   Column    Non-Null Count  Dtype \n",
      "---  ------    --------------  ----- \n",
      " 0   Id        5559 non-null   object\n",
      " 1   label     5559 non-null   object\n",
      " 2   filename  5559 non-null   object\n",
      "dtypes: object(3)\n",
      "memory usage: 130.4+ KB\n"
     ]
    }
   ],
   "source": [
    "df_train_full.info()"
   ]
  },
  {
   "cell_type": "code",
   "execution_count": 5,
   "id": "32713ffa",
   "metadata": {},
   "outputs": [],
   "source": [
    "#splitting train_full in train(0.8) and val(0.2)\n",
    "val_cutoff = int(len(df_train_full) * 0.8)\n",
    "df_train = df_train_full[:val_cutoff]\n",
    "df_val = df_train_full[val_cutoff:]"
   ]
  },
  {
   "cell_type": "markdown",
   "id": "f4bfef22",
   "metadata": {},
   "source": [
    "Now let's create image generators"
   ]
  },
  {
   "cell_type": "code",
   "execution_count": 6,
   "id": "2caa27c8",
   "metadata": {},
   "outputs": [],
   "source": [
    "from tensorflow.keras.applications.xception import Xception\n",
    "from tensorflow.keras.applications.xception import preprocess_input\n",
    "\n",
    "from tensorflow.keras.preprocessing.image import ImageDataGenerator"
   ]
  },
  {
   "cell_type": "code",
   "execution_count": 7,
   "id": "c83ced9e",
   "metadata": {
    "scrolled": true
   },
   "outputs": [
    {
     "name": "stdout",
     "output_type": "stream",
     "text": [
      "Found 4447 validated image filenames belonging to 6 classes.\n",
      "Found 1112 validated image filenames belonging to 6 classes.\n"
     ]
    }
   ],
   "source": [
    "train_datagen = ImageDataGenerator(preprocessing_function=preprocess_input)\n",
    "\n",
    "train_generator = train_datagen.flow_from_dataframe(\n",
    "    df_train,\n",
    "    x_col='filename',\n",
    "    y_col='label',\n",
    "    target_size=(150, 150),\n",
    "    batch_size=32,\n",
    ")\n",
    "\n",
    "val_datagen = ImageDataGenerator(preprocessing_function=preprocess_input)\n",
    "\n",
    "val_generator = val_datagen.flow_from_dataframe(\n",
    "    df_val,\n",
    "    x_col='filename',\n",
    "    y_col='label',\n",
    "    target_size=(150, 150),\n",
    "    batch_size=32,\n",
    ")"
   ]
  },
  {
   "cell_type": "code",
   "execution_count": 7,
   "id": "da265f3c",
   "metadata": {},
   "outputs": [],
   "source": [
    "def make_model(learning_rate):\n",
    "    base_model = Xception(\n",
    "        weights='imagenet',\n",
    "        input_shape=(150, 150, 3),\n",
    "        include_top=False\n",
    "    )\n",
    "\n",
    "    base_model.trainable = False\n",
    "\n",
    "    inputs = keras.Input(shape=(150, 150, 3))\n",
    "\n",
    "    base = base_model(inputs, training=False)\n",
    "    vector = keras.layers.GlobalAveragePooling2D()(base)\n",
    "    outputs = keras.layers.Dense(6)(vector)\n",
    "\n",
    "    model = keras.Model(inputs, outputs)\n",
    "    \n",
    "    model.compile(\n",
    "        optimizer=keras.optimizers.Adam(learning_rate),\n",
    "        loss=keras.losses.CategoricalCrossentropy(from_logits=True),\n",
    "        metrics=[\"accuracy\"],\n",
    "    )\n",
    "    \n",
    "    return model"
   ]
  },
  {
   "cell_type": "markdown",
   "id": "076b5fa4",
   "metadata": {},
   "source": [
    "#### starter parameters were lr = 0.01 and epochs = 2 ####"
   ]
  },
  {
   "cell_type": "code",
   "execution_count": 12,
   "id": "ea3b81e4",
   "metadata": {},
   "outputs": [
    {
     "name": "stdout",
     "output_type": "stream",
     "text": [
      "Epoch 1/10\n",
      "139/139 [==============================] - 67s 465ms/step - loss: 0.5087 - accuracy: 0.8197 - val_loss: 0.3382 - val_accuracy: 0.8732\n",
      "Epoch 2/10\n",
      "139/139 [==============================] - 63s 457ms/step - loss: 0.2784 - accuracy: 0.9062 - val_loss: 0.3107 - val_accuracy: 0.8903\n",
      "Epoch 3/10\n",
      "139/139 [==============================] - 64s 460ms/step - loss: 0.2271 - accuracy: 0.9231 - val_loss: 0.2990 - val_accuracy: 0.8903\n",
      "Epoch 4/10\n",
      "139/139 [==============================] - 64s 460ms/step - loss: 0.1955 - accuracy: 0.9323 - val_loss: 0.3060 - val_accuracy: 0.8912\n",
      "Epoch 5/10\n",
      "139/139 [==============================] - 64s 460ms/step - loss: 0.1646 - accuracy: 0.9460 - val_loss: 0.3037 - val_accuracy: 0.8876\n",
      "Epoch 6/10\n",
      "139/139 [==============================] - 64s 462ms/step - loss: 0.1456 - accuracy: 0.9544 - val_loss: 0.2985 - val_accuracy: 0.9002\n",
      "Epoch 7/10\n",
      "139/139 [==============================] - 64s 458ms/step - loss: 0.1277 - accuracy: 0.9613 - val_loss: 0.2972 - val_accuracy: 0.8939\n",
      "Epoch 8/10\n",
      "139/139 [==============================] - 64s 458ms/step - loss: 0.1123 - accuracy: 0.9712 - val_loss: 0.3069 - val_accuracy: 0.8930\n",
      "Epoch 9/10\n",
      "139/139 [==============================] - 64s 461ms/step - loss: 0.1029 - accuracy: 0.9735 - val_loss: 0.3052 - val_accuracy: 0.8930\n",
      "Epoch 10/10\n",
      "139/139 [==============================] - 64s 459ms/step - loss: 0.0921 - accuracy: 0.9755 - val_loss: 0.3165 - val_accuracy: 0.8867\n"
     ]
    }
   ],
   "source": [
    "model = make_model(learning_rate = 0.001)\n",
    "history_0_001 = model.fit(train_generator, epochs=10, validation_data=val_generator)"
   ]
  },
  {
   "cell_type": "code",
   "execution_count": 14,
   "id": "d0972349",
   "metadata": {},
   "outputs": [
    {
     "data": {
      "image/png": "[encoded data removed]",
      "text/plain": [
       "<Figure size 600x400 with 1 Axes>"
      ]
     },
     "metadata": {},
     "output_type": "display_data"
    }
   ],
   "source": [
    "plt.figure(figsize=(6, 4))\n",
    "\n",
    "epochs = history_0_001.epoch\n",
    "val = history_0_001.history['val_accuracy']\n",
    "train = history_0_001.history['accuracy']\n",
    "\n",
    "plt.plot(epochs, val, color='black', linestyle='solid', label='validation')\n",
    "plt.plot(epochs, train, color='black', linestyle='dashed', label='train')\n",
    "\n",
    "plt.title('Xception v1, lr=0.001')\n",
    "plt.xlabel('Epoch')\n",
    "plt.ylabel('Accuracy')\n",
    "\n",
    "plt.xticks(epochs)\n",
    "\n",
    "plt.legend()\n",
    "\n",
    "\n",
    "plt.savefig('xception_v1_0_001.svg')\n",
    "\n",
    "plt.show()"
   ]
  },
  {
   "cell_type": "code",
   "execution_count": 94,
   "id": "48883f39",
   "metadata": {},
   "outputs": [],
   "source": [
    "#Let's add one more layer - and a dropout between them\n",
    "\n",
    "def make_model(learning_rate, droprate):\n",
    "    base_model = Xception(\n",
    "        weights='imagenet',\n",
    "        input_shape=(150, 150, 3),\n",
    "        include_top=False\n",
    "    )\n",
    "\n",
    "    base_model.trainable = False\n",
    "\n",
    "    inputs = keras.Input(shape=(150, 150, 3))\n",
    "    \n",
    "    base = base_model(inputs, training=False)\n",
    "    vector = keras.layers.GlobalAveragePooling2D()(base)\n",
    "\n",
    "    inner = keras.layers.Dense(100, activation='relu')(vector)\n",
    "    drop = keras.layers.Dropout(droprate)(inner)\n",
    "\n",
    "    outputs = keras.layers.Dense(6)(drop)\n",
    "\n",
    "    model = keras.Model(inputs, outputs)\n",
    "    \n",
    "    model.compile(\n",
    "        optimizer=keras.optimizers.Adam(learning_rate),\n",
    "        loss=keras.losses.CategoricalCrossentropy(from_logits=True),\n",
    "        metrics=[\"accuracy\"],\n",
    "    )\n",
    "    \n",
    "    return model"
   ]
  },
  {
   "cell_type": "code",
   "execution_count": 37,
   "id": "882e15b3",
   "metadata": {},
   "outputs": [
    {
     "name": "stdout",
     "output_type": "stream",
     "text": [
      "Epoch 1/15\n",
      "139/139 [==============================] - 69s 479ms/step - loss: 0.5819 - accuracy: 0.7958 - val_loss: 0.3493 - val_accuracy: 0.8768\n",
      "Epoch 2/15\n",
      "139/139 [==============================] - 64s 457ms/step - loss: 0.3558 - accuracy: 0.8716 - val_loss: 0.2954 - val_accuracy: 0.8939\n",
      "Epoch 3/15\n",
      "139/139 [==============================] - 65s 468ms/step - loss: 0.2860 - accuracy: 0.8963 - val_loss: 0.2924 - val_accuracy: 0.8966\n",
      "Epoch 4/15\n",
      "139/139 [==============================] - 64s 458ms/step - loss: 0.2403 - accuracy: 0.9123 - val_loss: 0.2847 - val_accuracy: 0.8957\n",
      "Epoch 5/15\n",
      "139/139 [==============================] - 64s 463ms/step - loss: 0.2282 - accuracy: 0.9163 - val_loss: 0.2906 - val_accuracy: 0.8876\n",
      "Epoch 6/15\n",
      "139/139 [==============================] - 64s 464ms/step - loss: 0.1771 - accuracy: 0.9384 - val_loss: 0.2846 - val_accuracy: 0.8966\n",
      "Epoch 7/15\n",
      "139/139 [==============================] - 64s 460ms/step - loss: 0.1688 - accuracy: 0.9427 - val_loss: 0.2883 - val_accuracy: 0.8984\n",
      "Epoch 8/15\n",
      "139/139 [==============================] - 65s 464ms/step - loss: 0.1435 - accuracy: 0.9478 - val_loss: 0.3036 - val_accuracy: 0.8993\n",
      "Epoch 9/15\n",
      "139/139 [==============================] - 64s 464ms/step - loss: 0.1369 - accuracy: 0.9501 - val_loss: 0.3254 - val_accuracy: 0.8939\n",
      "Epoch 10/15\n",
      "139/139 [==============================] - 64s 462ms/step - loss: 0.1209 - accuracy: 0.9568 - val_loss: 0.3186 - val_accuracy: 0.8876\n",
      "Epoch 11/15\n",
      "139/139 [==============================] - 65s 467ms/step - loss: 0.1159 - accuracy: 0.9575 - val_loss: 0.3287 - val_accuracy: 0.8957\n",
      "Epoch 12/15\n",
      "139/139 [==============================] - 64s 457ms/step - loss: 0.0979 - accuracy: 0.9658 - val_loss: 0.3279 - val_accuracy: 0.9011\n",
      "Epoch 13/15\n",
      "139/139 [==============================] - 65s 467ms/step - loss: 0.0940 - accuracy: 0.9672 - val_loss: 0.3403 - val_accuracy: 0.8903\n",
      "Epoch 14/15\n",
      "139/139 [==============================] - 64s 463ms/step - loss: 0.0861 - accuracy: 0.9672 - val_loss: 0.3410 - val_accuracy: 0.9056\n",
      "Epoch 15/15\n",
      "139/139 [==============================] - 64s 461ms/step - loss: 0.0749 - accuracy: 0.9728 - val_loss: 0.3659 - val_accuracy: 0.8948\n"
     ]
    }
   ],
   "source": [
    "model = make_model(learning_rate=0.001, droprate=0.5)\n",
    "\n",
    "callbacks = [\n",
    "    keras.callbacks.ModelCheckpoint(\n",
    "        \"xception_v2_0_5_{epoch:02d}_{val_accuracy:.3f}.h5\",\n",
    "        monitor=\"val_accuracy\",\n",
    "        save_best_only=True,\n",
    "        mode='max'\n",
    "    )\n",
    "]\n",
    "\n",
    "history_2 = model.fit(train_generator, epochs=15, validation_data=val_generator, callbacks=callbacks)"
   ]
  },
  {
   "cell_type": "code",
   "execution_count": 38,
   "id": "441f5a94",
   "metadata": {},
   "outputs": [],
   "source": [
    "epochs = history_2.epoch\n",
    "\n",
    "train05 = history_2.history['accuracy']\n",
    "\n",
    "val05 = history_2.history['val_accuracy']"
   ]
  },
  {
   "cell_type": "code",
   "execution_count": 39,
   "id": "ea1b9f23",
   "metadata": {},
   "outputs": [
    {
     "data": {
      "image/png": "[encoded data removed]",
      "text/plain": [
       "<Figure size 600x400 with 1 Axes>"
      ]
     },
     "metadata": {},
     "output_type": "display_data"
    }
   ],
   "source": [
    "plt.figure(figsize=(6, 4))\n",
    "\n",
    "\n",
    "plt.plot(epochs, val05, color='black', linestyle='solid', label='0.5')\n",
    "\n",
    "\n",
    "\n",
    "plt.title('Xception')\n",
    "plt.xlabel('Epoch')\n",
    "plt.ylabel('Accuracy')\n",
    "\n",
    "\n",
    "plt.legend()\n",
    "\n",
    "#plt.savefig('xception_v2_dropout.svg')\n",
    "\n",
    "plt.show()"
   ]
  },
  {
   "cell_type": "code",
   "execution_count": 40,
   "id": "46eb5659",
   "metadata": {
    "scrolled": true
   },
   "outputs": [
    {
     "data": {
      "image/png": "[encoded data removed]",
      "text/plain": [
       "<Figure size 600x400 with 1 Axes>"
      ]
     },
     "metadata": {},
     "output_type": "display_data"
    }
   ],
   "source": [
    "plt.figure(figsize=(6, 4))\n",
    "\n",
    "\n",
    "plt.plot(epochs, train05, color='black', linestyle='solid', label='0.5')\n",
    "\n",
    "\n",
    "\n",
    "plt.title('Xception(train)')\n",
    "plt.xlabel('Epoch')\n",
    "plt.ylabel('Accuracy')\n",
    "\n",
    "\n",
    "plt.legend()\n",
    "\n",
    "#plt.savefig('xception_v2_dropout_train.svg')\n",
    "\n",
    "plt.show()"
   ]
  },
  {
   "cell_type": "markdown",
   "id": "baabe153",
   "metadata": {},
   "source": [
    "### DATA AUGMENTATION ###"
   ]
  },
  {
   "cell_type": "code",
   "execution_count": 97,
   "id": "8c70bebb",
   "metadata": {},
   "outputs": [
    {
     "name": "stdout",
     "output_type": "stream",
     "text": [
      "Found 4447 validated image filenames belonging to 6 classes.\n",
      "Found 1112 validated image filenames belonging to 6 classes.\n"
     ]
    }
   ],
   "source": [
    "train_datagen = ImageDataGenerator(\n",
    "    preprocessing_function=preprocess_input,\n",
    "    zoom_range=0.1,\n",
    "    horizontal_flip=True,\n",
    "    #vertical_flip=True,\n",
    "    rotation_range=5.0,\n",
    "    fill_mode='nearest',\n",
    "    #width_shift_range=0.1,\n",
    "    #height_shift_range=0.1\n",
    "    #channel_shift_range=0.2\n",
    "    shear_range=0.2\n",
    ")\n",
    "\n",
    "train_generator = train_datagen.flow_from_dataframe(\n",
    "    df_train,\n",
    "    x_col='filename',\n",
    "    y_col='label',\n",
    "    target_size=(150, 150),\n",
    "    batch_size=32,\n",
    ")\n",
    "\n",
    "val_datagen = ImageDataGenerator(preprocessing_function=preprocess_input)\n",
    "\n",
    "val_generator = val_datagen.flow_from_dataframe(\n",
    "    df_val,\n",
    "    x_col='filename',\n",
    "    y_col='label',\n",
    "    target_size=(150, 150),\n",
    "    batch_size=32,\n",
    ")"
   ]
  },
  {
   "cell_type": "code",
   "execution_count": 98,
   "id": "b23cc4b0",
   "metadata": {
    "scrolled": false
   },
   "outputs": [
    {
     "name": "stdout",
     "output_type": "stream",
     "text": [
      "Epoch 1/10\n",
      "139/139 [==============================] - 83s 581ms/step - loss: 0.5925 - accuracy: 0.7882 - val_loss: 0.3029 - val_accuracy: 0.8903\n",
      "Epoch 2/10\n",
      "139/139 [==============================] - 80s 573ms/step - loss: 0.3814 - accuracy: 0.8631 - val_loss: 0.2855 - val_accuracy: 0.8921\n",
      "Epoch 3/10\n",
      "139/139 [==============================] - 80s 573ms/step - loss: 0.3360 - accuracy: 0.8813 - val_loss: 0.2727 - val_accuracy: 0.8993\n",
      "Epoch 4/10\n",
      "139/139 [==============================] - 79s 568ms/step - loss: 0.3066 - accuracy: 0.8916 - val_loss: 0.2964 - val_accuracy: 0.8939\n",
      "Epoch 5/10\n",
      "139/139 [==============================] - 79s 571ms/step - loss: 0.2796 - accuracy: 0.8984 - val_loss: 0.2998 - val_accuracy: 0.8993\n",
      "Epoch 6/10\n",
      "139/139 [==============================] - 80s 574ms/step - loss: 0.2608 - accuracy: 0.9031 - val_loss: 0.2974 - val_accuracy: 0.9011\n",
      "Epoch 7/10\n",
      "139/139 [==============================] - 79s 568ms/step - loss: 0.2531 - accuracy: 0.9042 - val_loss: 0.2958 - val_accuracy: 0.8984\n",
      "Epoch 8/10\n",
      "139/139 [==============================] - 79s 569ms/step - loss: 0.2319 - accuracy: 0.9105 - val_loss: 0.3160 - val_accuracy: 0.8957\n",
      "Epoch 9/10\n",
      "139/139 [==============================] - 79s 570ms/step - loss: 0.2103 - accuracy: 0.9260 - val_loss: 0.2935 - val_accuracy: 0.9092\n",
      "Epoch 10/10\n",
      "139/139 [==============================] - 79s 567ms/step - loss: 0.2129 - accuracy: 0.9204 - val_loss: 0.2820 - val_accuracy: 0.9065\n"
     ]
    }
   ],
   "source": [
    "model = make_model(learning_rate=0.001, droprate=0.5)\n",
    "\n",
    "callbacks = [\n",
    "    keras.callbacks.ModelCheckpoint(\n",
    "        \"xception_v3_0_5_{epoch:02d}_{val_accuracy:.3f}.h5\",\n",
    "        monitor=\"val_accuracy\",\n",
    "        save_best_only=True,\n",
    "        mode='max'\n",
    "    )\n",
    "]\n",
    "\n",
    "history_3 = model.fit(train_generator, epochs=10, validation_data=val_generator, callbacks=callbacks)"
   ]
  },
  {
   "cell_type": "code",
   "execution_count": 99,
   "id": "a6a51595",
   "metadata": {},
   "outputs": [],
   "source": [
    "epochs = history_3.epoch\n",
    "\n",
    "train05 = history_3.history['accuracy']\n",
    "\n",
    "val05 = history_3.history['val_accuracy']"
   ]
  },
  {
   "cell_type": "code",
   "execution_count": 100,
   "id": "bb953ce9",
   "metadata": {},
   "outputs": [
    {
     "data": {
      "image/png": "[encoded data removed]",
      "text/plain": [
       "<Figure size 600x400 with 1 Axes>"
      ]
     },
     "metadata": {},
     "output_type": "display_data"
    }
   ],
   "source": [
    "plt.figure(figsize=(6, 4))\n",
    "\n",
    "\n",
    "plt.plot(epochs, val05, color='black', linestyle='solid', label='0.5')\n",
    "\n",
    "\n",
    "\n",
    "plt.title('Xception')\n",
    "plt.xlabel('Epoch')\n",
    "plt.ylabel('Accuracy')\n",
    "\n",
    "\n",
    "plt.legend()\n",
    "\n",
    "#plt.savefig('xception_v2_dropout.svg')\n",
    "\n",
    "plt.show()"
   ]
  },
  {
   "cell_type": "code",
   "execution_count": 101,
   "id": "c6e03056",
   "metadata": {},
   "outputs": [
    {
     "data": {
      "image/png": "[encoded data removed]",
      "text/plain": [
       "<Figure size 600x400 with 1 Axes>"
      ]
     },
     "metadata": {},
     "output_type": "display_data"
    }
   ],
   "source": [
    "plt.figure(figsize=(6, 4))\n",
    "\n",
    "\n",
    "plt.plot(epochs, train05, color='black', linestyle='solid', label='0.5')\n",
    "\n",
    "\n",
    "\n",
    "plt.title('Xception(train)')\n",
    "plt.xlabel('Epoch')\n",
    "plt.ylabel('Accuracy')\n",
    "\n",
    "\n",
    "plt.legend()\n",
    "\n",
    "#plt.savefig('xception_v2_dropout_train.svg')\n",
    "\n",
    "plt.show()"
   ]
  },
  {
   "cell_type": "markdown",
   "id": "3a767001",
   "metadata": {},
   "source": [
    "### FINE TUNING ###"
   ]
  },
  {
   "cell_type": "code",
   "execution_count": 117,
   "id": "245bad6f",
   "metadata": {},
   "outputs": [],
   "source": [
    "base_model = Xception(\n",
    "    weights='imagenet',\n",
    "    input_shape=(150, 150, 3),\n",
    "    include_top=False\n",
    ")\n",
    "\n",
    "base_model.trainable = False\n",
    "\n",
    "inputs = keras.Input(shape=(150, 150, 3))\n",
    "    \n",
    "base = base_model(inputs, training=False)\n",
    "vector = keras.layers.GlobalAveragePooling2D()(base)\n",
    "\n",
    "inner = keras.layers.Dense(100, activation='relu')(vector)\n",
    "drop = keras.layers.Dropout(rate=0.5)(inner)\n",
    "\n",
    "outputs = keras.layers.Dense(6)(drop)\n",
    "\n",
    "model = keras.Model(inputs, outputs)\n",
    "    \n",
    "model.compile(\n",
    "    optimizer=keras.optimizers.Adam(learning_rate=0.001),\n",
    "    loss=keras.losses.CategoricalCrossentropy(from_logits=True),\n",
    "    metrics=[\"accuracy\"],\n",
    ")\n",
    "    "
   ]
  },
  {
   "cell_type": "code",
   "execution_count": 118,
   "id": "6d1b2264",
   "metadata": {},
   "outputs": [
    {
     "name": "stdout",
     "output_type": "stream",
     "text": [
      "Epoch 1/10\n",
      "139/139 [==============================] - 82s 578ms/step - loss: 0.6039 - accuracy: 0.7884 - val_loss: 0.3232 - val_accuracy: 0.8804\n",
      "Epoch 2/10\n",
      "139/139 [==============================] - 79s 570ms/step - loss: 0.3898 - accuracy: 0.8604 - val_loss: 0.2991 - val_accuracy: 0.8903\n",
      "Epoch 3/10\n",
      "139/139 [==============================] - 79s 570ms/step - loss: 0.3411 - accuracy: 0.8781 - val_loss: 0.3146 - val_accuracy: 0.8912\n",
      "Epoch 4/10\n",
      "139/139 [==============================] - 80s 572ms/step - loss: 0.3098 - accuracy: 0.8876 - val_loss: 0.3116 - val_accuracy: 0.8939\n",
      "Epoch 5/10\n",
      "139/139 [==============================] - 79s 571ms/step - loss: 0.2789 - accuracy: 0.8981 - val_loss: 0.2949 - val_accuracy: 0.8894\n",
      "Epoch 6/10\n",
      "139/139 [==============================] - 79s 567ms/step - loss: 0.2662 - accuracy: 0.9026 - val_loss: 0.2950 - val_accuracy: 0.8939\n",
      "Epoch 7/10\n",
      "139/139 [==============================] - 79s 570ms/step - loss: 0.2484 - accuracy: 0.9098 - val_loss: 0.3008 - val_accuracy: 0.8903\n",
      "Epoch 8/10\n",
      "139/139 [==============================] - 79s 568ms/step - loss: 0.2324 - accuracy: 0.9094 - val_loss: 0.2931 - val_accuracy: 0.9083\n",
      "Epoch 9/10\n",
      "139/139 [==============================] - 79s 569ms/step - loss: 0.2202 - accuracy: 0.9157 - val_loss: 0.3037 - val_accuracy: 0.8930\n",
      "Epoch 10/10\n",
      "139/139 [==============================] - 79s 569ms/step - loss: 0.2088 - accuracy: 0.9226 - val_loss: 0.3005 - val_accuracy: 0.8948\n"
     ]
    },
    {
     "data": {
      "text/plain": [
       "<keras.callbacks.History at 0x7f750c833bb0>"
      ]
     },
     "execution_count": 118,
     "metadata": {},
     "output_type": "execute_result"
    }
   ],
   "source": [
    "model.fit(train_generator, epochs=10, validation_data=val_generator)"
   ]
  },
  {
   "cell_type": "code",
   "execution_count": 119,
   "id": "9f054dee",
   "metadata": {},
   "outputs": [
    {
     "data": {
      "text/plain": [
       "\"\\n    inputs = keras.Input(shape=(150, 150, 3))\\n\\n    base = base_model(inputs, training=False)\\n    vector = keras.layers.GlobalAveragePooling2D()(base)\\n\\n    inner = keras.layers.Dense(100, activation='relu')(vector)\\n    drop = keras.layers.Dropout(rate=0.5)(inner)\\n\\n    outputs = keras.layers.Dense(6)(drop)\\n\\n    model = keras.Model(inputs, outputs)\\n\""
      ]
     },
     "execution_count": 119,
     "metadata": {},
     "output_type": "execute_result"
    }
   ],
   "source": [
    "#unfreeze the last 32 layers of the base model for doing a partial fine tuning \n",
    "base_model.trainable = True\n",
    "for layer in base_model.layers[:-32]:\n",
    "  layer.trainable = False\n",
    "\n",
    "'''\n",
    "    inputs = keras.Input(shape=(150, 150, 3))\n",
    "\n",
    "    base = base_model(inputs, training=False)\n",
    "    vector = keras.layers.GlobalAveragePooling2D()(base)\n",
    "\n",
    "    inner = keras.layers.Dense(100, activation='relu')(vector)\n",
    "    drop = keras.layers.Dropout(rate=0.5)(inner)\n",
    "\n",
    "    outputs = keras.layers.Dense(6)(drop)\n",
    "\n",
    "    model = keras.Model(inputs, outputs)\n",
    "'''"
   ]
  },
  {
   "cell_type": "code",
   "execution_count": 120,
   "id": "0c257940",
   "metadata": {},
   "outputs": [
    {
     "name": "stdout",
     "output_type": "stream",
     "text": [
      "Epoch 1/10\n",
      "139/139 [==============================] - 84s 581ms/step - loss: 0.1718 - accuracy: 0.9377 - val_loss: 0.2863 - val_accuracy: 0.9029\n",
      "Epoch 2/10\n",
      "139/139 [==============================] - 80s 575ms/step - loss: 0.1461 - accuracy: 0.9494 - val_loss: 0.2744 - val_accuracy: 0.9128\n",
      "Epoch 3/10\n",
      "139/139 [==============================] - 80s 574ms/step - loss: 0.1229 - accuracy: 0.9505 - val_loss: 0.2783 - val_accuracy: 0.9128\n",
      "Epoch 4/10\n",
      "139/139 [==============================] - 80s 575ms/step - loss: 0.1086 - accuracy: 0.9597 - val_loss: 0.2773 - val_accuracy: 0.9155\n",
      "Epoch 5/10\n",
      "139/139 [==============================] - 80s 573ms/step - loss: 0.0956 - accuracy: 0.9658 - val_loss: 0.2839 - val_accuracy: 0.9173\n",
      "Epoch 6/10\n",
      "139/139 [==============================] - 79s 569ms/step - loss: 0.0813 - accuracy: 0.9699 - val_loss: 0.3116 - val_accuracy: 0.9146\n",
      "Epoch 7/10\n",
      "139/139 [==============================] - 79s 572ms/step - loss: 0.0799 - accuracy: 0.9696 - val_loss: 0.2960 - val_accuracy: 0.9155\n",
      "Epoch 8/10\n",
      "139/139 [==============================] - 79s 570ms/step - loss: 0.0760 - accuracy: 0.9730 - val_loss: 0.3056 - val_accuracy: 0.9155\n",
      "Epoch 9/10\n",
      "139/139 [==============================] - 80s 574ms/step - loss: 0.0702 - accuracy: 0.9723 - val_loss: 0.2903 - val_accuracy: 0.9209\n",
      "Epoch 10/10\n",
      "139/139 [==============================] - 80s 574ms/step - loss: 0.0585 - accuracy: 0.9804 - val_loss: 0.3041 - val_accuracy: 0.9218\n"
     ]
    },
    {
     "data": {
      "text/plain": [
       "<keras.callbacks.History at 0x7f75902f49a0>"
      ]
     },
     "execution_count": 120,
     "metadata": {},
     "output_type": "execute_result"
    }
   ],
   "source": [
    "model.compile(\n",
    "    optimizer=keras.optimizers.Adam(learning_rate=1e-5),  # Low learning rate to avoid desstruction of the learned weights\n",
    "    loss=keras.losses.CategoricalCrossentropy(from_logits=True),\n",
    "    metrics=[\"accuracy\"],\n",
    ")\n",
    "\n",
    "callbacks = [\n",
    "    keras.callbacks.ModelCheckpoint(\n",
    "        \"xception_v4_0_5_{epoch:02d}_{val_accuracy:.3f}.h5\",\n",
    "        monitor=\"val_accuracy\",\n",
    "        save_best_only=True,\n",
    "        mode='max'\n",
    "    )\n",
    "]\n",
    "\n",
    "model.fit(train_generator, epochs=10, validation_data=val_generator, callbacks=callbacks)"
   ]
  },
  {
   "cell_type": "markdown",
   "id": "5ee6e149",
   "metadata": {},
   "source": [
    "Now let's use this model to predict the labels for test data"
   ]
  },
  {
   "cell_type": "code",
   "execution_count": 121,
   "id": "3eb84215",
   "metadata": {},
   "outputs": [],
   "source": [
    "#model = keras.models.load_model('xception_v2_0_5_14_0.906.h5') #best result case with 1 more layer and dropout\n",
    "\n",
    "#model = keras.models.load_model('xception_v3_0_5_15_0.902.h5') #1 more layer, dropout and augmentation\n",
    "#model = keras.models.load_model('xception_v3_0_5_09_0.909.h5') #1 more layer, dropout and augmentation final\n",
    "\n",
    "model = keras.models.load_model('xception_v4_0_5_10_0.922.h5') #1 more layer, dropout, augmentation and partial fine tuning\n"
   ]
  },
  {
   "cell_type": "code",
   "execution_count": 122,
   "id": "40643e85",
   "metadata": {},
   "outputs": [
    {
     "data": {
      "text/html": [
       "<div>\n",
       "<style scoped>\n",
       "    .dataframe tbody tr th:only-of-type {\n",
       "        vertical-align: middle;\n",
       "    }\n",
       "\n",
       "    .dataframe tbody tr th {\n",
       "        vertical-align: top;\n",
       "    }\n",
       "\n",
       "    .dataframe thead th {\n",
       "        text-align: right;\n",
       "    }\n",
       "</style>\n",
       "<table border=\"1\" class=\"dataframe\">\n",
       "  <thead>\n",
       "    <tr style=\"text-align: right;\">\n",
       "      <th></th>\n",
       "      <th>Id</th>\n",
       "      <th>filename</th>\n",
       "    </tr>\n",
       "  </thead>\n",
       "  <tbody>\n",
       "    <tr>\n",
       "      <th>0</th>\n",
       "      <td>0678</td>\n",
       "      <td>data/images/0678.jpg</td>\n",
       "    </tr>\n",
       "    <tr>\n",
       "      <th>1</th>\n",
       "      <td>3962</td>\n",
       "      <td>data/images/3962.jpg</td>\n",
       "    </tr>\n",
       "    <tr>\n",
       "      <th>2</th>\n",
       "      <td>9271</td>\n",
       "      <td>data/images/9271.jpg</td>\n",
       "    </tr>\n",
       "    <tr>\n",
       "      <th>3</th>\n",
       "      <td>5133</td>\n",
       "      <td>data/images/5133.jpg</td>\n",
       "    </tr>\n",
       "    <tr>\n",
       "      <th>4</th>\n",
       "      <td>8842</td>\n",
       "      <td>data/images/8842.jpg</td>\n",
       "    </tr>\n",
       "  </tbody>\n",
       "</table>\n",
       "</div>"
      ],
      "text/plain": [
       "     Id              filename\n",
       "0  0678  data/images/0678.jpg\n",
       "1  3962  data/images/3962.jpg\n",
       "2  9271  data/images/9271.jpg\n",
       "3  5133  data/images/5133.jpg\n",
       "4  8842  data/images/8842.jpg"
      ]
     },
     "execution_count": 122,
     "metadata": {},
     "output_type": "execute_result"
    }
   ],
   "source": [
    "df_test = pd.read_csv('data/test.csv', dtype={'Id': str})\n",
    "df_test['filename'] = 'data/images/' + df_test['Id'] + '.jpg'\n",
    "df_test.head()"
   ]
  },
  {
   "cell_type": "code",
   "execution_count": 123,
   "id": "5fd96ab0",
   "metadata": {},
   "outputs": [
    {
     "name": "stdout",
     "output_type": "stream",
     "text": [
      "Found 3808 validated image filenames.\n"
     ]
    }
   ],
   "source": [
    "test_datagen = ImageDataGenerator(preprocessing_function=preprocess_input)\n",
    "\n",
    "#class_mode = 'input'means that in the label arrays that are returned each label will be will be images identical to input images\n",
    "#useful for fitting autoencoders\n",
    "\n",
    "test_generator = test_datagen.flow_from_dataframe(\n",
    "    df_test,\n",
    "    x_col='filename',\n",
    "    class_mode='input',\n",
    "    target_size=(150, 150),\n",
    "    batch_size=32,\n",
    "    shuffle=False\n",
    ")"
   ]
  },
  {
   "cell_type": "code",
   "execution_count": 124,
   "id": "91800139",
   "metadata": {},
   "outputs": [
    {
     "data": {
      "text/plain": [
       "['data/images/0678.jpg',\n",
       " 'data/images/3962.jpg',\n",
       " 'data/images/9271.jpg',\n",
       " 'data/images/5133.jpg',\n",
       " 'data/images/8842.jpg']"
      ]
     },
     "execution_count": 124,
     "metadata": {},
     "output_type": "execute_result"
    }
   ],
   "source": [
    "test_generator.filenames[:5]"
   ]
  },
  {
   "cell_type": "code",
   "execution_count": 125,
   "id": "e279456f",
   "metadata": {},
   "outputs": [
    {
     "name": "stdout",
     "output_type": "stream",
     "text": [
      "119/119 [==============================] - 43s 355ms/step\n"
     ]
    }
   ],
   "source": [
    "y_pred = model.predict(test_generator)"
   ]
  },
  {
   "cell_type": "code",
   "execution_count": 126,
   "id": "8e8303d1",
   "metadata": {},
   "outputs": [
    {
     "data": {
      "text/plain": [
       "array(['cup', 'fork', 'glass', 'knife', 'plate', 'spoon'], dtype='<U5')"
      ]
     },
     "execution_count": 126,
     "metadata": {},
     "output_type": "execute_result"
    }
   ],
   "source": [
    "#dtype = '<U5' means unicode 5 characters with byte-order little-endian (<)\n",
    "classes = np.array(list(train_generator.class_indices.keys()))\n",
    "classes"
   ]
  },
  {
   "cell_type": "code",
   "execution_count": 127,
   "id": "cb3f8017",
   "metadata": {},
   "outputs": [],
   "source": [
    "predictions = classes[y_pred.argmax(axis=1)]"
   ]
  },
  {
   "cell_type": "code",
   "execution_count": 128,
   "id": "8407dffa",
   "metadata": {},
   "outputs": [
    {
     "data": {
      "text/plain": [
       "array(['knife', 'knife', 'fork', 'plate', 'fork'], dtype='<U5')"
      ]
     },
     "execution_count": 128,
     "metadata": {},
     "output_type": "execute_result"
    }
   ],
   "source": [
    "predictions[:5]"
   ]
  },
  {
   "cell_type": "markdown",
   "id": "e0194490",
   "metadata": {},
   "source": [
    "## Finally, we need to prepare the submission ##"
   ]
  },
  {
   "cell_type": "markdown",
   "id": "e75eb123",
   "metadata": {},
   "source": [
    "### submitted till now: \n",
    "1) lr=0.01 epochs=2 val_acc=0.8085 (scored on kaggle as 0.81860) \\\n",
    "2) lr=0.01 epochs=5 val_acc=0.8741 (scored as 0.88062) \\\n",
    "3) lr=0.01 epochs=10 val_accuracy=0.8822  (scored as? NOT submitted, overfitting  ) \\\n",
    "4) lr=0.1 epochs=10 val_accuracy=0.8831   (scored as ? NOT submitted, overfitting ) \\\n",
    "5) lr=0.001 epochs=10 val_accuracy=0.8867   (scored as ? NOT submitted, overfitting ) \\\n",
    "6) lr=0.001 epochs=15 val_accuracy=0.8948  (scored as ? NOT submitted, overfitting ) \\\n",
    "7) lr=0.001 epochs=15 val_accuracy=0.9006  (scored as 0.89302 ) \\\n",
    "8) lr=0.001 epochs=15, data_augmentation, val_accuracy=0.9020  (scored as 0.89819 ) \\\n",
    "9) lr=0.001 epochs=15, data_augmentation, val_accuracy=0.9065  (scored as 0.89819 ) \\\n",
    "10) lr=0.001 epochs=10, data_augmentation, partial fine tuning val_accuracy=0.9218  (scored as 0.92144) \\\n"
   ]
  },
  {
   "cell_type": "code",
   "execution_count": 129,
   "id": "da13e38c",
   "metadata": {},
   "outputs": [],
   "source": [
    "df_submission = pd.DataFrame()\n",
    "df_submission['filename'] = test_generator.filenames\n",
    "df_submission['label'] = predictions\n",
    "\n",
    "df_submission['Id'] = df_submission.filename.str[len('data/images/'):-4]\n",
    "del df_submission['filename']"
   ]
  },
  {
   "cell_type": "code",
   "execution_count": 130,
   "id": "98729827",
   "metadata": {},
   "outputs": [
    {
     "data": {
      "text/html": [
       "<div>\n",
       "<style scoped>\n",
       "    .dataframe tbody tr th:only-of-type {\n",
       "        vertical-align: middle;\n",
       "    }\n",
       "\n",
       "    .dataframe tbody tr th {\n",
       "        vertical-align: top;\n",
       "    }\n",
       "\n",
       "    .dataframe thead th {\n",
       "        text-align: right;\n",
       "    }\n",
       "</style>\n",
       "<table border=\"1\" class=\"dataframe\">\n",
       "  <thead>\n",
       "    <tr style=\"text-align: right;\">\n",
       "      <th></th>\n",
       "      <th>label</th>\n",
       "      <th>Id</th>\n",
       "    </tr>\n",
       "  </thead>\n",
       "  <tbody>\n",
       "    <tr>\n",
       "      <th>0</th>\n",
       "      <td>knife</td>\n",
       "      <td>0678</td>\n",
       "    </tr>\n",
       "    <tr>\n",
       "      <th>1</th>\n",
       "      <td>knife</td>\n",
       "      <td>3962</td>\n",
       "    </tr>\n",
       "    <tr>\n",
       "      <th>2</th>\n",
       "      <td>fork</td>\n",
       "      <td>9271</td>\n",
       "    </tr>\n",
       "    <tr>\n",
       "      <th>3</th>\n",
       "      <td>plate</td>\n",
       "      <td>5133</td>\n",
       "    </tr>\n",
       "    <tr>\n",
       "      <th>4</th>\n",
       "      <td>fork</td>\n",
       "      <td>8842</td>\n",
       "    </tr>\n",
       "  </tbody>\n",
       "</table>\n",
       "</div>"
      ],
      "text/plain": [
       "   label    Id\n",
       "0  knife  0678\n",
       "1  knife  3962\n",
       "2   fork  9271\n",
       "3  plate  5133\n",
       "4   fork  8842"
      ]
     },
     "execution_count": 130,
     "metadata": {},
     "output_type": "execute_result"
    }
   ],
   "source": [
    "df_submission.head()"
   ]
  },
  {
   "cell_type": "code",
   "execution_count": 131,
   "id": "3822fafd",
   "metadata": {},
   "outputs": [],
   "source": [
    "df_submission[['Id', 'label']].to_csv('submission.csv', index=False)"
   ]
  },
  {
   "cell_type": "code",
   "execution_count": 133,
   "id": "dd5fa450",
   "metadata": {},
   "outputs": [
    {
     "name": "stdout",
     "output_type": "stream",
     "text": [
      "validation: 0.9218\n"
     ]
    }
   ],
   "source": [
    "#val_acc = round(history_3.history['val_accuracy'][-1], 4)\n",
    "val_acc = 0.9218\n",
    "print(f'validation: {val_acc}')"
   ]
  },
  {
   "cell_type": "code",
   "execution_count": 134,
   "id": "5081abc1",
   "metadata": {},
   "outputs": [
    {
     "name": "stdout",
     "output_type": "stream",
     "text": [
      "100%|██████████████████████████████████████| 38.9k/38.9k [00:00<00:00, 54.5kB/s]\n",
      "Successfully submitted to Kitchenware Classification"
     ]
    }
   ],
   "source": [
    "!kaggle competitions submit kitchenware-classification -f submission.csv -m f'validation: {val_acc}'"
   ]
  },
  {
   "cell_type": "code",
   "execution_count": null,
   "id": "63ad10a4",
   "metadata": {},
   "outputs": [],
   "source": []
  }
 ],
 "metadata": {
  "kernelspec": {
   "display_name": "Python 3 (ipykernel)",
   "language": "python",
   "name": "python3"
  },
  "language_info": {
   "codemirror_mode": {
    "name": "ipython",
    "version": 3
   },
   "file_extension": ".py",
   "mimetype": "text/x-python",
   "name": "python",
   "nbconvert_exporter": "python",
   "pygments_lexer": "ipython3",
   "version": "3.10.8"
  }
 },
 "nbformat": 4,
 "nbformat_minor": 5
}
